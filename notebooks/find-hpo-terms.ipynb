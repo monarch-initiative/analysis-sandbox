{
 "cells": [
  {
   "cell_type": "code",
   "execution_count": 17,
   "metadata": {},
   "outputs": [],
   "source": [
    "import requests\n",
    "import csv\n",
    "\n",
    "# Globals\n",
    "BIOLINK_API = \"https://api-dev.monarchinitiative.org/api\"\n",
    "NUM_TERMS = 4\n",
    "\n",
    "# Input/output files\n",
    "file_path = \"/home/kshefchek/Downloads/OmsLogFindingsSynonyms.csv\"\n",
    "output_file = \"/home/kshefchek/Oms-HPO-terms.tsv\"\n",
    "\n",
    "outfile = open(output_file, 'w')\n",
    "\n",
    "columns = ['finding label', 'synonym label', 'matched label', 'matched id', 'matched text']\n",
    "\n",
    "outfile.write(\"#{}\\n\".format(\"\\t\".join(columns)))\n",
    "\n",
    "biolink_search = BIOLINK_API + \"/search/entity/autocomplete/\"\n",
    "\n",
    "parameters = {\n",
    "    'rows': NUM_TERMS,\n",
    "    'prefix': 'HP'\n",
    "}\n",
    "\n",
    "with open(file_path, 'r') as csv_file:\n",
    "    reader = csv.reader(csv_file, delimiter=',', quotechar='\\\"')\n",
    "    next(reader, None)  # skip the headers\n",
    "    for row in reader:\n",
    "        if row[0].startswith('#'): continue\n",
    "        (term, synonym) = row\n",
    "              \n",
    "        outfile.write(\"{0}\\t{1}\\t\".format(term, synonym))\n",
    "        \n",
    "        url = biolink_search + term\n",
    "        biolink_request = requests.get(url, params=parameters)\n",
    "        biolink_response = biolink_request.json()\n",
    "        \n",
    "        for match in biolink_response['docs']:\n",
    "            label = match['label'][0]\n",
    "            match_id = match['id']\n",
    "            matched_text = match['match']\n",
    "            outfile.write(\"{}\\t{}\\t{}\\t\".format(label, match_id, matched_text))\n",
    "        \n",
    "        \n",
    "        outfile.write(\"\\n\")\n",
    "\n",
    "outfile.close()\n"
   ]
  },
  {
   "cell_type": "code",
   "execution_count": null,
   "metadata": {
    "collapsed": true
   },
   "outputs": [],
   "source": []
  }
 ],
 "metadata": {
  "kernelspec": {
   "display_name": "Python 3",
   "language": "python",
   "name": "python3"
  },
  "language_info": {
   "codemirror_mode": {
    "name": "ipython",
    "version": 3
   },
   "file_extension": ".py",
   "mimetype": "text/x-python",
   "name": "python",
   "nbconvert_exporter": "python",
   "pygments_lexer": "ipython3",
   "version": "3.5.2"
  }
 },
 "nbformat": 4,
 "nbformat_minor": 2
}
