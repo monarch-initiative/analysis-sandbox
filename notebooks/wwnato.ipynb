{
 "cells": [
  {
   "cell_type": "markdown",
   "metadata": {},
   "source": [
    "##### Which model genes have phenotype data but are not associated with a human diseases (and have a human ortholog)\n",
    "\n",
    "###### Notes\n",
    "We ingest RGD gene to phenotype but do not get their model_of disease associations, so this should be excluded\n",
    "\n",
    "Similarly, we don't ingest yeast gene model of disease data as it's not available (at least from sgd) - https://downloads.yeastgenome.org/curation/literature/"
   ]
  },
  {
   "cell_type": "code",
   "execution_count": 50,
   "metadata": {},
   "outputs": [
    {
     "data": {
      "text/plain": [
       "['HGNC:19826',\n",
       " 'HGNC:32951',\n",
       " 'NCBIGene:105372831',\n",
       " 'NCBIGene:105373954',\n",
       " 'HGNC:13143',\n",
       " 'HGNC:32378',\n",
       " 'HGNC:20036',\n",
       " 'HGNC:53772',\n",
       " 'HGNC:18317',\n",
       " 'HGNC:19827',\n",
       " 'HGNC:51375']"
      ]
     },
     "execution_count": 50,
     "metadata": {},
     "output_type": "execute_result"
    }
   ],
   "source": [
    "# First get all human genes\n",
    "\n",
    "import requests\n",
    "from typing import Set, Iterator, Dict\n",
    "from copy import deepcopy\n",
    "from prefixcommons import contract_uri, expand_uri\n",
    "from prefixcommons.curie_util import NoPrefix\n",
    "\n",
    "# Globals and Constants\n",
    "SCIGRAPH_URL = 'https://scigraph-data.monarchinitiative.org/scigraph'\n",
    "SOLR_URL = 'https://solr.monarchinitiative.org/solr/golr/select'\n",
    "\n",
    "CURIE_MAP = {\n",
    "    \"http://identifiers.org/hgnc/HGNC:\": \"HGNC\"\n",
    "}\n",
    "\n",
    "def get_human_genes() -> Set[str]:\n",
    "\n",
    "    scigraph_service = SCIGRAPH_URL + \"/cypher/execute.json\"\n",
    "    query = \"MATCH (gene:gene)-[has_taxon:RO:0002162]->(taxon{iri:'http://purl.obolibrary.org/obo/NCBITaxon_9606'}) \" \\\n",
    "            \"RETURN DISTINCT gene.iri as gene_iri\"\n",
    "    params = {\n",
    "        \"cypherQuery\": query,\n",
    "        \"limit\": 100000\n",
    "    }\n",
    "\n",
    "    request = requests.get(scigraph_service, params=params)\n",
    "    results = request.json()\n",
    "    genes = set()\n",
    "    \n",
    "    for res in results:\n",
    "        if res[\"gene_iri\"].startswith(\"http://flybase.org\"):\n",
    "            continue\n",
    "        try:\n",
    "            genes.add(contract_uri(res[\"gene_iri\"], strict=True)[0])\n",
    "        except NoPrefix:\n",
    "            for prefix in CURIE_MAP:\n",
    "                if res[\"gene_iri\"].startswith(prefix):\n",
    "                    curie = res[\"gene_iri\"].replace(prefix, CURIE_MAP[prefix] + \":\")\n",
    "                    genes.add(curie)\n",
    "                    break\n",
    "            \n",
    "    return genes\n",
    "\n",
    "human_gene_set = get_human_genes()\n",
    "# Head list\n",
    "list(human_gene_set)[0:11]"
   ]
  },
  {
   "cell_type": "code",
   "execution_count": 51,
   "metadata": {},
   "outputs": [
    {
     "data": {
      "text/plain": [
       "2163"
      ]
     },
     "execution_count": 51,
     "metadata": {},
     "output_type": "execute_result"
    }
   ],
   "source": [
    "# Get model genes that are associated to a human disease\n",
    "\n",
    "model_of_query = {\n",
    "    \"q\": \"*:*\",\n",
    "    \"facet.limit\": \"5000\",\n",
    "    \"facet.field\": \"subject_gene\",\n",
    "    \"fq\": [\n",
    "        \"relation:\\\"RO:0003301\\\"\",  # model_of\n",
    "        \"-subject_gene:HGNC*\"  # remove human \"models\" (cell lines)\n",
    "    ],\n",
    "    \"facet.mincount\": \"1\",\n",
    "    \"rows\": \"0\",\n",
    "    \"facet\": \"true\",\n",
    "    \"json.nl\": \"arrarr\",\n",
    "    \"wt\": \"json\"\n",
    "}\n",
    "\n",
    "solr_request = requests.get(SOLR_URL, params=model_of_query)\n",
    "response = solr_request.json()\n",
    "model_genes_w_disease = {facet[0] for facet in response[\"facet_counts\"][\"facet_fields\"][\"subject_gene\"]}\n",
    "\n",
    "len(list(model_genes_w_disease))"
   ]
  },
  {
   "cell_type": "code",
   "execution_count": 55,
   "metadata": {},
   "outputs": [
    {
     "name": "stdout",
     "output_type": "stream",
     "text": [
      "Processed 100000 docs\n",
      "Processed 200000 docs\n",
      "Processed 300000 docs\n",
      "Processed 400000 docs\n",
      "Processed 500000 docs\n",
      "Processed 600000 docs\n"
     ]
    },
    {
     "data": {
      "text/plain": [
       "29449"
      ]
     },
     "execution_count": 55,
     "metadata": {},
     "output_type": "execute_result"
    }
   ],
   "source": [
    "# Get all the genes with at least one human ortholog and phenotype association\n",
    "# (~600k associations)\n",
    "\n",
    "def get_solr_results(solr, params) -> Iterator[Dict]:\n",
    "    solr_params = deepcopy(params)  # don't mutate input\n",
    "    result_count = solr_params['rows']\n",
    "    if 'start' not in solr_params: solr_params['start'] = 0\n",
    "    while solr_params['start'] < result_count:\n",
    "        solr_request = requests.get(solr, params=solr_params)\n",
    "        response = solr_request.json()\n",
    "        result_count = response['response']['numFound']\n",
    "        solr_params['start'] += solr_params['rows']\n",
    "        if solr_params['start'] % 100000 == 0:\n",
    "            print(\"Processed {} docs\".format(solr_params['start']))\n",
    "        for doc in response['response']['docs']:\n",
    "            yield doc\n",
    "            \n",
    "gene_phenotype = {\n",
    "    \"q\": \"*:*\",\n",
    "    \"fl\": \"subject,subject_taxon_label,subject_ortholog_closure\",\n",
    "    \"fq\": [\n",
    "        \"subject_category:gene\",\n",
    "        \"object_category:phenotype\",\n",
    "        \"-subject_taxon:\\\"NCBITaxon:9606\\\"\"  # filter out human g2p\n",
    "    ],\n",
    "    \"rows\": 10000,\n",
    "    \"start\": 0,\n",
    "    \"wt\": \"json\"\n",
    "    }\n",
    "\n",
    "# need py 3.6\n",
    "# mod_gene_list: Set[Tuple[str, str]] = []\n",
    "mod_gene_set = set()\n",
    "\n",
    "for doc in get_solr_results(SOLR_URL, gene_phenotype):\n",
    "    if 'subject_ortholog_closure' not in doc:\n",
    "        continue\n",
    "    if len(set(doc['subject_ortholog_closure']) & human_gene_set) > 0 \\\n",
    "            and not doc['subject'] in model_genes_w_disease:\n",
    "        taxon = doc['subject_taxon_label'] if 'subject_taxon_label' in doc else \"unknown\"\n",
    "        mod_gene_set.add((doc['subject'], taxon))\n",
    "\n",
    "len(mod_gene_set)"
   ]
  },
  {
   "cell_type": "code",
   "execution_count": 57,
   "metadata": {},
   "outputs": [
    {
     "data": {
      "text/plain": [
       "Counter({'Bos taurus': 993,\n",
       "         'Caenorhabditis elegans': 4558,\n",
       "         'Danio rerio': 3390,\n",
       "         'Drosophila melanogaster': 7951,\n",
       "         'Equus caballus': 23,\n",
       "         'Gallus gallus': 128,\n",
       "         'Mus musculus': 8503,\n",
       "         'Rattus norvegicus': 563,\n",
       "         'Saccharomyces cerevisiae S288C': 3013,\n",
       "         'Sus scrofa': 320,\n",
       "         'unknown': 7})"
      ]
     },
     "execution_count": 57,
     "metadata": {},
     "output_type": "execute_result"
    }
   ],
   "source": [
    "from collections import Counter \n",
    "\n",
    "# unzip and count occurences per species\n",
    "genes, species = zip(*list(mod_gene_set))\n",
    "\n",
    "Counter(species)"
   ]
  },
  {
   "cell_type": "code",
   "execution_count": null,
   "metadata": {
    "collapsed": true
   },
   "outputs": [],
   "source": []
  }
 ],
 "metadata": {
  "kernelspec": {
   "display_name": "Python 3",
   "language": "python",
   "name": "python3"
  },
  "language_info": {
   "codemirror_mode": {
    "name": "ipython",
    "version": 3
   },
   "file_extension": ".py",
   "mimetype": "text/x-python",
   "name": "python",
   "nbconvert_exporter": "python",
   "pygments_lexer": "ipython3",
   "version": "3.5.2"
  }
 },
 "nbformat": 4,
 "nbformat_minor": 2
}
