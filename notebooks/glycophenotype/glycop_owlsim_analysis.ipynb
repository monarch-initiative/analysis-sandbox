{
 "cells": [
  {
   "cell_type": "markdown",
   "metadata": {},
   "source": [
    "#### Leveraging glycophenotypes for diagnosis of human diseases: example of Fucosidosis\n",
    "\n",
    "\n",
    "We hypothesize that expanding the representation of glycophenotypes in the HPO and their use in disease annotations could improve phenotype-based comparisons in the Monarch Initiative. As a proof of principle, perform an analysis with phenotypes associated with the disease fucosidosis (MONDO:0009254). We create 100 \"simulated\" disease phenotype profiles by randomly sampling 10 of the 74 phenotypes associated with fucosidosis.  In a second set, for each profile, we randomly replaced two phenotypes with two glycophenotypes known to be associated with fucosidosis. Both sets are compared using the OwlSim algorithm from the Monarch Initiative, which given a list of phenotypes, ranks candidate diseases based on phenotypic similarity.\n",
    "\n",
    "This notebook walks through this analysis, first where the 10 sampled non glycophenotypes and 2 glycophenotypes are provided, and a second run where the entire analysis is randomized."
   ]
  },
  {
   "cell_type": "code",
   "execution_count": null,
   "metadata": {},
   "outputs": [],
   "source": []
  }
 ],
 "metadata": {
  "kernelspec": {
   "display_name": "Python 3",
   "language": "python",
   "name": "python3"
  },
  "language_info": {
   "codemirror_mode": {
    "name": "ipython",
    "version": 3
   },
   "file_extension": ".py",
   "mimetype": "text/x-python",
   "name": "python",
   "nbconvert_exporter": "python",
   "pygments_lexer": "ipython3",
   "version": "3.6.5"
  }
 },
 "nbformat": 4,
 "nbformat_minor": 2
}
